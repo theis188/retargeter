{
 "cells": [
  {
   "cell_type": "markdown",
   "metadata": {},
   "source": [
    "## The Readme for Image Retargeter\n",
    "\n",
    "Targets highest activity area of photo for cropping\n",
    "\n",
    "Python = 3.5\n",
    "\n",
    "Depends = sklearn,argparse,numpy"
   ]
  },
  {
   "cell_type": "code",
   "execution_count": 12,
   "metadata": {
    "collapsed": false
   },
   "outputs": [],
   "source": [
    "## Call via python as follows:\n",
    "\n",
    "from retargeting import Retargeter\n",
    "r = Retargeter()\n",
    "dim = (200,300)\n",
    "source = 'serra.jpg'\n",
    "dyn = 'serra_dyn.jpg'\n",
    "cen = 'serra_cen.jpg'\n",
    "r._DynCrop(source,dim,dyn)\n",
    "r._CenterCrop(source,dim,cen)"
   ]
  },
  {
   "cell_type": "markdown",
   "metadata": {},
   "source": [
    "Original:\n",
    "\n",
    "![](serra.jpg)\n",
    "\n",
    "Dynamic Crop:\n",
    "\n",
    "![](serra_dyn.jpg)\n",
    "\n",
    "Center Crop:\n",
    "\n",
    "![](serra_cen.jpg)"
   ]
  },
  {
   "cell_type": "code",
   "execution_count": 13,
   "metadata": {
    "collapsed": false
   },
   "outputs": [
    {
     "data": {
      "text/plain": [
       "0"
      ]
     },
     "execution_count": 13,
     "metadata": {},
     "output_type": "execute_result"
    }
   ],
   "source": [
    "## Call via CLI as follows:\n",
    "\n",
    "import os\n",
    "command = '''python retargeting.py --source marco.jpg --dyn marco_dyn.jpg --cen marco_cen.jpg --dim 200,300'''\n",
    "os.system(command)"
   ]
  },
  {
   "cell_type": "markdown",
   "metadata": {},
   "source": [
    "Original:\n",
    "\n",
    "![](marco.jpg)\n",
    "\n",
    "Dynamic Crop:\n",
    "\n",
    "![](marco_dyn.jpg)\n",
    "\n",
    "Center Crop:\n",
    "\n",
    "![](marco_cen.jpg)"
   ]
  },
  {
   "cell_type": "markdown",
   "metadata": {},
   "source": [
    "Troubleshoot with image_slice.py:\n",
    "\n",
    "(Tie appears to have highest activity)\n",
    "\n",
    "![](marco_slice.jpg)"
   ]
  },
  {
   "cell_type": "code",
   "execution_count": null,
   "metadata": {
    "collapsed": true
   },
   "outputs": [],
   "source": []
  }
 ],
 "metadata": {
  "anaconda-cloud": {},
  "kernelspec": {
   "display_name": "Python [default]",
   "language": "python",
   "name": "python3"
  },
  "language_info": {
   "codemirror_mode": {
    "name": "ipython",
    "version": 3
   },
   "file_extension": ".py",
   "mimetype": "text/x-python",
   "name": "python",
   "nbconvert_exporter": "python",
   "pygments_lexer": "ipython3",
   "version": "3.5.2"
  }
 },
 "nbformat": 4,
 "nbformat_minor": 1
}
